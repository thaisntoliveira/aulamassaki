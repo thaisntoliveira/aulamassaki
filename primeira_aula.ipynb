{
  "nbformat": 4,
  "nbformat_minor": 0,
  "metadata": {
    "colab": {
      "provenance": [],
      "authorship_tag": "ABX9TyPHhBIgzfyk77uZzUwO0Ic1",
      "include_colab_link": true
    },
    "kernelspec": {
      "name": "python3",
      "display_name": "Python 3"
    },
    "language_info": {
      "name": "python"
    }
  },
  "cells": [
    {
      "cell_type": "markdown",
      "metadata": {
        "id": "view-in-github",
        "colab_type": "text"
      },
      "source": [
        "<a href=\"https://colab.research.google.com/github/thaisntoliviera/aulamassaki/blob/main/primeira_aula.ipynb\" target=\"_parent\"><img src=\"https://colab.research.google.com/assets/colab-badge.svg\" alt=\"Open In Colab\"/></a>"
      ]
    },
    {
      "cell_type": "markdown",
      "source": [
        "#**Meu Primeiro Programa Python**\n",
        "## Teste\n",
        "\n"
      ],
      "metadata": {
        "id": "I5kkSxsvTSFJ"
      }
    },
    {
      "cell_type": "code",
      "source": [
        "#ENTRADAS DO PROGRAMA\n",
        "a = input (\"Digite a:\")\n",
        "b = input (\"Digite b:\")\n",
        "#PROCESSAMENTO\n",
        "soma = int(a) + int (b)\n",
        "#SAÍDA NA TELA\n",
        "print (soma)"
      ],
      "metadata": {
        "colab": {
          "base_uri": "https://localhost:8080/"
        },
        "id": "ik0VV-jELlkt",
        "outputId": "eb9441fb-8c80-4f4e-f3f3-f85c5e97bcd2"
      },
      "execution_count": null,
      "outputs": [
        {
          "output_type": "stream",
          "name": "stdout",
          "text": [
            "Digite a:3\n",
            "Digite b:5\n",
            "8\n"
          ]
        }
      ]
    },
    {
      "cell_type": "code",
      "source": [
        "valor1 = float(input('digite um valor:'))\n",
        "valor2 = float(input ('digite outro valor:'))\n",
        "print(valor1+valor2)\n"
      ],
      "metadata": {
        "colab": {
          "base_uri": "https://localhost:8080/"
        },
        "id": "wAjBs5rTSDgS",
        "outputId": "62234b2a-42e5-41fc-d729-18378377fdcc"
      },
      "execution_count": null,
      "outputs": [
        {
          "output_type": "stream",
          "name": "stdout",
          "text": [
            "digite um valor:4.5\n",
            "digite outro valor:3.5\n",
            "8.0\n"
          ]
        }
      ]
    },
    {
      "cell_type": "markdown",
      "source": [
        "#Ex.05-Aula LP02)\n",
        "##Na parte de texto explicativo,o hashtag é simbolo em linguagem MARKDFOWN usado para formataçãio de um titulo"
      ],
      "metadata": {
        "id": "gzsWxZNaK3Vi"
      }
    },
    {
      "cell_type": "code",
      "source": [
        "#Hashtag é comentário na parte de onde eu programo\n",
        "P = float (input(\"Digite o valor em polegadas:\"))\n",
        "mm = P*25.4\n",
        "print(\"O valor pol em mm é\", mm)"
      ],
      "metadata": {
        "colab": {
          "base_uri": "https://localhost:8080/"
        },
        "id": "N_z8_0vWJMjE",
        "outputId": "0b36f42c-cb4d-442b-fc17-082698c9f271"
      },
      "execution_count": 7,
      "outputs": [
        {
          "output_type": "stream",
          "name": "stdout",
          "text": [
            "Digite o valor em polegadas:1000\n",
            "O valor pol em mm é 25400.0\n"
          ]
        }
      ]
    }
  ]
}
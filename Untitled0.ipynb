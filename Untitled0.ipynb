{
  "nbformat": 4,
  "nbformat_minor": 0,
  "metadata": {
    "colab": {
      "provenance": [],
      "toc_visible": true,
      "authorship_tag": "ABX9TyOfayI8Y6LY1DwttX3J6Pex",
      "include_colab_link": true
    },
    "kernelspec": {
      "name": "python3",
      "display_name": "Python 3"
    },
    "language_info": {
      "name": "python"
    }
  },
  "cells": [
    {
      "cell_type": "markdown",
      "metadata": {
        "id": "view-in-github",
        "colab_type": "text"
      },
      "source": [
        "<a href=\"https://colab.research.google.com/github/thaisntoliveira/aulamassaki/blob/main/Untitled0.ipynb\" target=\"_parent\"><img src=\"https://colab.research.google.com/assets/colab-badge.svg\" alt=\"Open In Colab\"/></a>"
      ]
    },
    {
      "cell_type": "markdown",
      "source": [
        "13/11/2024\n",
        "\n",
        "Hoje abordaremos Funções e Médulos em Python\n",
        "\n",
        "Roteiro:\n",
        "\n",
        "Passo 1: abrir novo notebook colab\n",
        "\n",
        "Passo 2: clicar na pasta que fica no lado esquerdo\n",
        "\n",
        "Passo 3: botão direito: novo arquivo (MinhasFuncoes.py)\n",
        "\n",
        "Passo 4: código\n",
        "\n",
        "Passo 5: para usar: from MinhasFuncoes import*"
      ],
      "metadata": {
        "id": "shAyn3W9ngYX"
      }
    },
    {
      "cell_type": "code",
      "source": [
        "from MinhasFuncoes import *\n",
        "\n",
        "b = float (input(\"Digite o valor da base: \"))\n",
        "h = float (input(\"Digite o valor da altura: \"))\n",
        "A = AreaTriangulo(b,h)\n",
        "print(\"Área triâgulo = \" , A)\n",
        "\n",
        "\n",
        "\n",
        "\n"
      ],
      "metadata": {
        "colab": {
          "base_uri": "https://localhost:8080/"
        },
        "id": "bBQ0fwpjn5RK",
        "outputId": "b732e013-eb09-44ed-eb54-9fd1cfbf888b"
      },
      "execution_count": 20,
      "outputs": [
        {
          "output_type": "stream",
          "name": "stdout",
          "text": [
            "Digite o valor da base: 2\n",
            "Digite o valor da altura: 2\n",
            "Área triâgulo =  2.0\n"
          ]
        }
      ]
    },
    {
      "cell_type": "code",
      "source": [
        "from FuncMedia import *\n",
        "v1 = float (input(\"Digite o primeiro número: \"))\n",
        "v2 = float (input(\"Digite o segundo número: \"))\n",
        "M = Media (v1,v2)\n",
        "print(\"A média é = \", M)\n",
        "\n"
      ],
      "metadata": {
        "colab": {
          "base_uri": "https://localhost:8080/"
        },
        "id": "gfiYMFJAwhsU",
        "outputId": "7dd0f61a-7212-41f7-c85f-c6c350c4ec18"
      },
      "execution_count": 23,
      "outputs": [
        {
          "output_type": "stream",
          "name": "stdout",
          "text": [
            "Digite o primeiro número: 10\n",
            "Digite o segundo número: 15\n",
            "A média é =  12.5\n"
          ]
        }
      ]
    },
    {
      "cell_type": "code",
      "source": [
        "from google.colab import drive\n",
        "drive.mount('/content/drive')"
      ],
      "metadata": {
        "id": "5O66UgBe4K52"
      },
      "execution_count": null,
      "outputs": []
    }
  ]
}
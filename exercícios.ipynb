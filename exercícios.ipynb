{
  "nbformat": 4,
  "nbformat_minor": 0,
  "metadata": {
    "colab": {
      "provenance": [],
      "authorship_tag": "ABX9TyNiaGamAftiRNQKaq6mqk+U",
      "include_colab_link": true
    },
    "kernelspec": {
      "name": "python3",
      "display_name": "Python 3"
    },
    "language_info": {
      "name": "python"
    }
  },
  "cells": [
    {
      "cell_type": "markdown",
      "metadata": {
        "id": "view-in-github",
        "colab_type": "text"
      },
      "source": [
        "<a href=\"https://colab.research.google.com/github/thaisntoliveira/aulamassaki/blob/main/exerc%C3%ADcios.ipynb\" target=\"_parent\"><img src=\"https://colab.research.google.com/assets/colab-badge.svg\" alt=\"Open In Colab\"/></a>"
      ]
    },
    {
      "cell_type": "markdown",
      "source": [
        "Exercício 1: programa para calcular média aritmética entre dois valores."
      ],
      "metadata": {
        "id": "1QwHN7IbpY8A"
      }
    },
    {
      "cell_type": "code",
      "source": [
        "# Solicita dois valores reais ao usuário\n",
        "valor1 = float(input(\"Digite o primeiro valor: \"))\n",
        "valor2 = float(input(\"Digite o segundo valor: \"))\n",
        "# Calcula a média aritmética\n",
        "media = (valor1 + valor2) / 2\n",
        "# Exibe o resultado\n",
        "print(f\"A média aritmética entre {valor1} e {valor2} é {media}.\")"
      ],
      "metadata": {
        "colab": {
          "base_uri": "https://localhost:8080/"
        },
        "id": "pjOPW82zperp",
        "outputId": "415dbf97-eac4-477c-8c4f-ccec1c3f70eb"
      },
      "execution_count": 1,
      "outputs": [
        {
          "output_type": "stream",
          "name": "stdout",
          "text": [
            "Digite o primeiro valor: 5\n",
            "Digite o segundo valor: 10\n",
            "A média aritmética entre 5.0 e 10.0 é 7.5.\n"
          ]
        }
      ]
    },
    {
      "cell_type": "markdown",
      "source": [
        "Exercício 2: programa para calcular a área de um triângulo.\n",
        "\n",
        "**Narrativa:**\n",
        "\n",
        "Ler b, h,\n",
        "\n",
        "Calcular a=b*h/2.0\n",
        "\n",
        "Exibir área\n",
        "\n",
        "\n",
        "**Pseudocódigo:**\n",
        "\n",
        "Início\n",
        "\n",
        "Real: base, altura, área\n",
        "\n",
        "Ler base\n",
        "\n",
        "Ler altura\n",
        "\n",
        "Calcular área = base*altura/2.0\n",
        "\n",
        "Escrever área\n",
        "\n",
        "Fim"
      ],
      "metadata": {
        "id": "CX58ManAppzI"
      }
    },
    {
      "cell_type": "code",
      "source": [
        "# Definir variáveis reais: base, altura e área\n",
        "base = float(input(\"Digite o valor da base do triângulo: \"))\n",
        "altura = float(input(\"Digite o valor da altura do triângulo: \"))\n",
        "# Calcular a área do triângulo\n",
        "area = (base * altura) / 2\n",
        "# Exibir a área calculada\n",
        "print(f\"A área do triângulo com base {base} e altura {altura} é {area}.\")\n",
        "# Fim do programa"
      ],
      "metadata": {
        "colab": {
          "base_uri": "https://localhost:8080/"
        },
        "id": "GLHSGhfqqIyn",
        "outputId": "93ea0538-2504-4db9-da5e-29621dc58fb6"
      },
      "execution_count": 2,
      "outputs": [
        {
          "output_type": "stream",
          "name": "stdout",
          "text": [
            "Digite o valor da base do triângulo: 25\n",
            "Digite o valor da altura do triângulo: 30\n",
            "A área do triângulo com base 25.0 e altura 30.0 é 375.0.\n"
          ]
        }
      ]
    },
    {
      "cell_type": "markdown",
      "source": [
        "Exercício 3: programa para converter Farenheit em Celsius.\n",
        "\n",
        "**Narrativa:**\n",
        "\n",
        "Ler Temp. Fahrenheit\n",
        "\n",
        "Calcular C = (5/9)(F-32)\n",
        "\n",
        "Exibir C\n",
        "\n",
        "**Pseudocódigo:**\n",
        "\n",
        "Início\n",
        "\n",
        "Real: C, F\n",
        "\n",
        "Ler F\n",
        "\n",
        "Calcular C = (5/9)(F-32)\n",
        "\n",
        "Exibir C\n",
        "\n",
        "Fim\n",
        "\n"
      ],
      "metadata": {
        "id": "mAULQAvzqZK9"
      }
    },
    {
      "cell_type": "code",
      "source": [
        "#SOLICITE AO USUÁRIO QUE INSIRA UMA TEMPERATURA EM FAHRENHEIT\n",
        "fahrenheit = float(input(\"Digite a temperatura em Fahrenheit:\"))\n",
        "#CONVERTE A TEMPERATURA PARA CELCIUS USANDO A FÓRMULA C = (5/9) * (F - 32)\n",
        "celcius = (5/9) * (fahrenheit - 32)\n",
        "#EXIBE O RESULTADO\n",
        "print(f\"A temperatura em Celsius é {celcius:.2f}°C.\")"
      ],
      "metadata": {
        "colab": {
          "base_uri": "https://localhost:8080/"
        },
        "id": "yf0MDpbzquPn",
        "outputId": "62c9f18a-55d0-4d2d-9e22-85a239aa8658"
      },
      "execution_count": 5,
      "outputs": [
        {
          "output_type": "stream",
          "name": "stdout",
          "text": [
            "Digite a temperatura em Fahrenheit:230\n",
            "A temperatura em Celsius é 110.00°C.\n"
          ]
        }
      ]
    },
    {
      "cell_type": "markdown",
      "source": [
        "Exercício 3: programa para converter o valor dado em polegadas para milímetros.\n",
        "\n",
        "**Narrativa:**\n",
        "\n",
        "Ler P\n",
        "\n",
        "Calcular mm=25.4*P\n",
        "\n",
        "Exibir mm\n",
        "\n",
        "**Pseudocódigo:**\n",
        "\n",
        "Início\n",
        "\n",
        "Real: P, mm\n",
        "\n",
        "Ler P\n",
        "\n",
        "Calcular C = mm=25.4*P\n",
        "\n",
        "Exibir mm\n",
        "\n",
        "Fim"
      ],
      "metadata": {
        "id": "pgXFT5qDrmg5"
      }
    },
    {
      "cell_type": "code",
      "source": [
        "#SOLICITE AO USUÁRIO QUE INSIRA UMA MEDIDA EM POLEGADAS\n",
        "polegadas = float(input(\"Digite a medida em polegadas: \"))\n",
        "#CONVERTA A MEDIDA PARA MILÍMETROS (1 polegada = 25,4 mm)\n",
        "milimetros = polegadas * 25.4\n",
        "#EXIBE O RESULTADO\n",
        "print(f\"{polegadas} polegadas é igual a {milimetros:.2f} milímetros.\")"
      ],
      "metadata": {
        "colab": {
          "base_uri": "https://localhost:8080/"
        },
        "id": "FIjUz99Pr8uG",
        "outputId": "0081576b-0aef-4cec-94f0-bb99453dde36"
      },
      "execution_count": 7,
      "outputs": [
        {
          "output_type": "stream",
          "name": "stdout",
          "text": [
            "Digite a medida em polegadas: 2\n",
            "2.0 polegadas é igual a 50.80 milímetros.\n"
          ]
        }
      ]
    },
    {
      "cell_type": "markdown",
      "source": [
        "Exercício 4: programa para verificar se uma pessoa com determinada idade pode ou não votar.\n",
        "\n",
        "**Narrativa:**\n",
        "\n",
        "Ler idade\n",
        "\n",
        "Se idade >= 16 e idade <70: Exibir \"Pode votar!\"\n",
        "\n",
        "Senão: Exibir \"Não pode votar!\"\n",
        "\n",
        "\n",
        "**Pseudocódigo:**\n",
        "\n",
        "Início\n",
        "\n",
        "inteiro: idade\n",
        "\n",
        "Ler idade\n",
        "\n",
        "Se idade >=16 e idade<70 então: Exibir “Pode votar!”\n",
        "\n",
        "Senão: Exibir “Não pode votar!”\n",
        "\n",
        "Fim"
      ],
      "metadata": {
        "id": "XjP3Ein0s1p-"
      }
    },
    {
      "cell_type": "code",
      "source": [
        "#SOLICITA AO USUÁRIO QUE INSIRA SUA IDADE\n",
        "idade = int(input(\"Digite a sua idade: \"))\n",
        "#VERIFICA SE A IDADE É MAIOR OU IGUAL A 16 ANOS E MENOR QUE 70 ANOS\n",
        "if 16 <= idade < 70:\n",
        "    print(\"Você está dentro da faixa etária entre 16 e 70, pode votar!\")\n",
        "else:\n",
        "    print(\"Você está fora da faixa etária entre 16 e 70 anos, infelizmente você não pode votar!\")\n"
      ],
      "metadata": {
        "colab": {
          "base_uri": "https://localhost:8080/"
        },
        "id": "RleIGCLZtqP9",
        "outputId": "39c04418-480c-4e7a-8eb9-9f61757ab0c5"
      },
      "execution_count": 11,
      "outputs": [
        {
          "output_type": "stream",
          "name": "stdout",
          "text": [
            "Digite a sua idade: 1\n",
            "Você está fora da faixa etária entre 16 e 70 anos, infelizmente você não pode votar!\n"
          ]
        }
      ]
    },
    {
      "cell_type": "markdown",
      "source": [
        "Exercício 5: programa que receba o raio (o (r) de uma\n",
        "esfera, e em seguida calculae e exibir o  volume (v) desta esfera.\n",
        "\n",
        "**Narrativa:**\n",
        "\n",
        "Atribuir PI = 3.14159265358979323846\n",
        "\n",
        "Ler r\n",
        "\n",
        "Calcular esfera: v=(4/3)*PI/(r* r*r)\n",
        "\n",
        "Exibir v\n",
        "\n",
        "**Pseudocódigo:**\n",
        "\n",
        "Início\n",
        "\n",
        "Real: r, v\n",
        "\n",
        "Real PI = 3.14159265358979323846\n",
        "\n",
        "Ler r\n",
        "\n",
        "Calcular\n",
        "\n",
        "v = (4/3.0)* PI/(r*r*r)\n",
        "\n",
        "Exibir v\n",
        "\n",
        "Fim\n",
        "\n",
        "\n"
      ],
      "metadata": {
        "id": "UIivy9AvwPkG"
      }
    },
    {
      "cell_type": "code",
      "source": [
        "from math import pi\n",
        "#SOLICITA AO USUÁRIO QUE INSIRA O RAIO DA ESFERA\n",
        "raio = float(input(\"Digite o raio da esfera: \"))\n",
        "#CALCULA O VOLUME DA ESFERA USANDO A FÓRMULA V = (4/3) * π * r^3\n",
        "volume = (4/3) * pi * (raio**3)\n",
        "#EXIBE O RESULTADO\n",
        "print(\"Volume da esfera em unidades cubicas: \", volume)"
      ],
      "metadata": {
        "colab": {
          "base_uri": "https://localhost:8080/"
        },
        "id": "Tpj0299zyS3u",
        "outputId": "59675b72-6d40-40cc-f6e7-dee0202d6d2f"
      },
      "execution_count": 34,
      "outputs": [
        {
          "output_type": "stream",
          "name": "stdout",
          "text": [
            "Digite o raio da esfera: 2.5\n",
            "Volume da esfera em unidades cubicas:  65.44984694978736\n"
          ]
        }
      ]
    },
    {
      "cell_type": "markdown",
      "source": [
        "Exercício 6: programa para identificar se um número é ímpar ou par."
      ],
      "metadata": {
        "id": "ENq78zyE4HOr"
      }
    },
    {
      "cell_type": "code",
      "source": [
        "#SOLICITA AO USUÁRIO QUE INSIRA UM NÚMERO\n",
        "numero = int(input(\"Digite um número inteiro: \"))\n",
        "#VERIFICA SE O NÚMERO É PAR OU ÍMPAR\n",
        "if numero % 2==0:\n",
        "  print(f\"O número {numero} é par.\")\n",
        "else:\n",
        "  print(f\"O número {numero} é ímpar.\")"
      ],
      "metadata": {
        "colab": {
          "base_uri": "https://localhost:8080/"
        },
        "id": "5rKWH52X4da6",
        "outputId": "06afdb49-7b31-46c2-857b-ff04d483987b"
      },
      "execution_count": 25,
      "outputs": [
        {
          "output_type": "stream",
          "name": "stdout",
          "text": [
            "Digite um número inteiro: 59\n",
            "O número 59 é ímpar.\n"
          ]
        }
      ]
    },
    {
      "cell_type": "markdown",
      "source": [
        "Exercício 7: programa para identificar se o aluno está aprovado ou reprovado."
      ],
      "metadata": {
        "id": "NF5_hlI945Lv"
      }
    },
    {
      "cell_type": "code",
      "source": [
        "a = float(input(\"Digite a primeira nota: \"))\n",
        "b = float(input(\"Digite a segunda nota: \"))\n",
        "peso1 = 2\n",
        "peso2 = 3\n",
        "media = (a * peso1 + b * peso2) / (peso1 + peso2)\n",
        "if media >= 5:\n",
        "  print (\"Aprovado!\")\n",
        "else:\n",
        "  print (\"Reprovado!\")"
      ],
      "metadata": {
        "colab": {
          "base_uri": "https://localhost:8080/"
        },
        "id": "XktI4cNs5Bmi",
        "outputId": "0dc70ac4-db7c-46a0-96a0-b1781192a068"
      },
      "execution_count": 28,
      "outputs": [
        {
          "output_type": "stream",
          "name": "stdout",
          "text": [
            "Digite a primeira nota: 1\n",
            "Digite a segunda nota: 2\n",
            "Reprovado!\n"
          ]
        }
      ]
    },
    {
      "cell_type": "markdown",
      "source": [
        "Exercício 8: programa para identificar se um número é múltiplo de 3."
      ],
      "metadata": {
        "id": "tCIcn5yc7A8P"
      }
    },
    {
      "cell_type": "code",
      "source": [
        "x = int(input(\"Digite um valor inteiro: \"))\n",
        "r =x%3\n",
        "if r==0:\n",
        "  print(\"Múltiplo\")\n",
        "else:\n",
        "  print(\"Não múltiplo\")"
      ],
      "metadata": {
        "colab": {
          "base_uri": "https://localhost:8080/"
        },
        "id": "jKAEoCHm7HFt",
        "outputId": "412b6ca3-e83b-47f3-95d8-6243961c6069"
      },
      "execution_count": 31,
      "outputs": [
        {
          "output_type": "stream",
          "name": "stdout",
          "text": [
            "Digite um valor inteiro: 10\n",
            "Não múltiplo\n"
          ]
        }
      ]
    },
    {
      "cell_type": "code",
      "source": [],
      "metadata": {
        "id": "8VNQfrCq7TLj"
      },
      "execution_count": null,
      "outputs": []
    }
  ]
}
{
  "nbformat": 4,
  "nbformat_minor": 0,
  "metadata": {
    "colab": {
      "provenance": [],
      "authorship_tag": "ABX9TyOI2zJYAULPEYcW57i+gHrI",
      "include_colab_link": true
    },
    "kernelspec": {
      "name": "python3",
      "display_name": "Python 3"
    },
    "language_info": {
      "name": "python"
    }
  },
  "cells": [
    {
      "cell_type": "markdown",
      "metadata": {
        "id": "view-in-github",
        "colab_type": "text"
      },
      "source": [
        "<a href=\"https://colab.research.google.com/github/thaisntoliveira/aulamassaki/blob/main/fundamentos.ipynb\" target=\"_parent\"><img src=\"https://colab.research.google.com/assets/colab-badge.svg\" alt=\"Open In Colab\"/></a>"
      ]
    },
    {
      "cell_type": "markdown",
      "source": [
        "**Tipos de Dados**\n",
        "\n",
        "Dataframe: é uma estrutura de dados que organiza os dados em uma tabela bidimensional de linhas e colunas, assim como uma planilha de Excel.\n",
        "\n",
        "Numérico, Texto, Boleano, Sequência\n",
        "\n",
        "Evitar acentuação nas palavras\n",
        "\n",
        "LISTA usa \"[\"\n",
        "\n",
        "TUPLA usa dados imutáveis com \"(\"\n",
        "\n",
        "Exemplo:\n",
        "\n",
        "Times = [\"Corinthians\", \"Palmeiras\", \"SP\"]\n",
        "\n",
        "Vitoras = [3, 8, 20]\n",
        "\n",
        "Criar perguntas/colunas com poucos detalhes\n",
        "Ex.: Qual é a sua idade? | idade\n",
        "\n"
      ],
      "metadata": {
        "id": "FKqpvg7Lh4vp"
      }
    },
    {
      "cell_type": "code",
      "source": [
        "Professores = ['Carla', 'Daniel', 'Ingrid', 'Roberto',]\n",
        "estacoes = ('Primavera', 'Verão', 'Outono', 'Inverno')\n",
        "cliente = {\n",
        "    'Nome': 'Fabio Garcia',\n",
        "    'email' : 'fabio_garcia_9@outlook.com'\n",
        "}\n",
        "\n",
        "print(type(Professores)) # list\n",
        "print(type(estacoes)) # tuple\n",
        "print(type(cliente)) # dict\n",
        "\n"
      ],
      "metadata": {
        "id": "1yK4wxJno68L"
      },
      "execution_count": null,
      "outputs": []
    }
  ]
}
{
  "nbformat": 4,
  "nbformat_minor": 0,
  "metadata": {
    "colab": {
      "provenance": [],
      "authorship_tag": "ABX9TyNYRonxutKkQcT8Uw7zF3xr",
      "include_colab_link": true
    },
    "kernelspec": {
      "name": "python3",
      "display_name": "Python 3"
    },
    "language_info": {
      "name": "python"
    }
  },
  "cells": [
    {
      "cell_type": "markdown",
      "metadata": {
        "id": "view-in-github",
        "colab_type": "text"
      },
      "source": [
        "<a href=\"https://colab.research.google.com/github/thaisntoliveira/aulamassaki/blob/main/introdu%C3%A7%C3%A3o.ipynb\" target=\"_parent\"><img src=\"https://colab.research.google.com/assets/colab-badge.svg\" alt=\"Open In Colab\"/></a>"
      ]
    },
    {
      "cell_type": "code",
      "execution_count": null,
      "metadata": {
        "id": "57Jqsp9Obc1z"
      },
      "outputs": [],
      "source": []
    },
    {
      "cell_type": "markdown",
      "source": [
        "# Algoritmos e Linguagem da Programação\n",
        "Profº Massaki\n",
        "\n",
        "**INTRODUÇÃO**\n",
        "\n",
        "O símbolo \"**#**\" é utilizado para realizar comentários nos programas, permite inserior observações importantes ao longo do código, além de ser possível comentar o código escrito até o momento e fazer uma modificação numa outra linha de código, isso permite voltar atrás caso a alteração não funcione.\n",
        "\n",
        "Sempre indentar (criar recuo) corretamente o programa, pois no Phyton o espaço feito com a **tecla TAB** pode até causar erros de execução no programa.\n"
      ],
      "metadata": {
        "id": "M-JXUvlFbiOm"
      }
    },
    {
      "cell_type": "code",
      "source": [
        "#CÓDIGO 01\n",
        "#ENTRADAS DO PROGRAMA\n",
        "a=input (\"Digite a:\")\n",
        "b=input (\"Digite b:\")\n",
        "#PROCESSAMENTO\n",
        "soma=int(a) + int(b)\n",
        "#SAÍDA NA TELA\n",
        "print (soma)"
      ],
      "metadata": {
        "colab": {
          "base_uri": "https://localhost:8080/"
        },
        "id": "1jAHJ4OcdBEg",
        "outputId": "6b3a17af-8357-4e28-a4d9-0bfeb639cf54"
      },
      "execution_count": 3,
      "outputs": [
        {
          "output_type": "stream",
          "name": "stdout",
          "text": [
            "Digite a:10\n",
            "Digite b:20\n",
            "30\n"
          ]
        }
      ]
    },
    {
      "cell_type": "code",
      "source": [
        "#OPERADORES ARITMÉTICOS\n",
        "print(10+2)\n",
        "print(10-2)\n",
        "print(10*2)\n",
        "print(10/2)\n",
        "#DIVISÃO TRUNCADA\n",
        "print(10//2)\n",
        "#MÓDULO/RESTO\n",
        "print(10%2)\n",
        "#EXPONENCIAÇÃO\n",
        "print(10**2)"
      ],
      "metadata": {
        "colab": {
          "base_uri": "https://localhost:8080/"
        },
        "id": "pFQweyPpfCWl",
        "outputId": "de1f9245-3d8f-4f89-e06a-9aa90b69fa20"
      },
      "execution_count": 5,
      "outputs": [
        {
          "output_type": "stream",
          "name": "stdout",
          "text": [
            "12\n",
            "8\n",
            "20\n",
            "5.0\n",
            "5\n",
            "0\n",
            "100\n"
          ]
        }
      ]
    },
    {
      "cell_type": "code",
      "source": [
        "#DECLARAÇÃO DE VARIÁVEIS\n",
        "x = 2\n",
        "p = 3.1415\n",
        "verdadeiro = True\n",
        "texto = 'isto é uma string'\n",
        "texto1 = \"isto também é uma string\"\n",
        "c = 3 + 2j\n",
        "\n",
        "print(x)\n",
        "print(p)\n",
        "print(verdadeiro)\n",
        "print(texto)\n",
        "print(texto1)"
      ],
      "metadata": {
        "colab": {
          "base_uri": "https://localhost:8080/"
        },
        "id": "Mp-XwoAYf-w6",
        "outputId": "53c8aeec-555b-402d-ed06-7aef038f82d8"
      },
      "execution_count": 6,
      "outputs": [
        {
          "output_type": "stream",
          "name": "stdout",
          "text": [
            "2\n",
            "3.1415\n",
            "True\n",
            "isto é uma string\n",
            "isto também é uma string\n"
          ]
        }
      ]
    },
    {
      "cell_type": "code",
      "source": [
        "#PRINCÍPIOS BÁSICOS DO PYTHON\n",
        "n1 = int(input(\"Digite o valor 1:\"))\n",
        "n2 = int(input(\"Digite o valor 2:\"))\n",
        "n3 = 20\n",
        "n4 = n1 + n2 + n3\n",
        "print (\"Soma: \" + str(n4))"
      ],
      "metadata": {
        "colab": {
          "base_uri": "https://localhost:8080/"
        },
        "id": "z4B3DzHLhcTu",
        "outputId": "def427b5-1231-4151-8dbd-ae5580745eca"
      },
      "execution_count": 7,
      "outputs": [
        {
          "output_type": "stream",
          "name": "stdout",
          "text": [
            "Digite o valor 1:5\n",
            "Digite o valor 2:10\n",
            "Soma: 35\n"
          ]
        }
      ]
    },
    {
      "cell_type": "code",
      "source": [],
      "metadata": {
        "id": "gkhzH9BwjUQ8"
      },
      "execution_count": null,
      "outputs": []
    },
    {
      "cell_type": "markdown",
      "source": [
        "EXERCÍCIO: crie um código de programa para solicitar dois valores de nota e em seguida calcular e exibir a média dessas notas.\n",
        "\n",
        "Narrativa:\n",
        "\n",
        "Ler nota da prova P1\n",
        "\n",
        "Ler nota da prova P2\n",
        "\n",
        "Calcular a média (onde média = (P1+P2)/2)\n",
        "\n",
        "Exibir a média calculada"
      ],
      "metadata": {
        "id": "UzD3Wlw2jX2-"
      }
    },
    {
      "cell_type": "code",
      "source": [
        "#ENTRADA DO PROGRAMA\n",
        "p1 = float(input(\"Digite a nota da p1: \"))\n",
        "p2 = float(input(\"Digite a nota da p2: \"))\n",
        "#PROCESSAMENTO\n",
        "média = (p1+p2/2.0)\n",
        "#SAÍDA NA TELA\n",
        "print(média)"
      ],
      "metadata": {
        "colab": {
          "base_uri": "https://localhost:8080/"
        },
        "id": "z7yBcpkkjxEk",
        "outputId": "8f0f3b83-1cb2-4a8c-d6d2-bb8593adefe5"
      },
      "execution_count": 15,
      "outputs": [
        {
          "output_type": "stream",
          "name": "stdout",
          "text": [
            "Digite a nota da p1: 3\n",
            "Digite a nota da p2: 9\n",
            "7.5\n"
          ]
        }
      ]
    }
  ]
}
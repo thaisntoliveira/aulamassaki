{
  "nbformat": 4,
  "nbformat_minor": 0,
  "metadata": {
    "colab": {
      "provenance": [],
      "authorship_tag": "ABX9TyOg/Rf+g0VpDxLQfev1ct74",
      "include_colab_link": true
    },
    "kernelspec": {
      "name": "python3",
      "display_name": "Python 3"
    },
    "language_info": {
      "name": "python"
    }
  },
  "cells": [
    {
      "cell_type": "markdown",
      "metadata": {
        "id": "view-in-github",
        "colab_type": "text"
      },
      "source": [
        "<a href=\"https://colab.research.google.com/github/thaisntoliveira/aulamassaki/blob/main/introdu%C3%A7%C3%A3o.ipynb\" target=\"_parent\"><img src=\"https://colab.research.google.com/assets/colab-badge.svg\" alt=\"Open In Colab\"/></a>"
      ]
    },
    {
      "cell_type": "code",
      "execution_count": null,
      "metadata": {
        "id": "57Jqsp9Obc1z"
      },
      "outputs": [],
      "source": []
    },
    {
      "cell_type": "markdown",
      "source": [
        "# Algoritmos e Linguagem da Programação\n",
        "Profº Massaki\n",
        "\n",
        "**INTRODUÇÃO**\n",
        "\n",
        "O símbolo \"**#**\" é um comentário sem função de execução, permite inserior observações importantes ao longo do código, além de ser possível comentar o código escrito até o momento e fazer uma modificação numa outra linha de código, isso permite voltar atrás caso a alteração não funcione.\n",
        "\n",
        "Sempre indentar (criar recuo) corretamente o programa, pois no Phyton o espaço feito com a **tecla TAB** pode até causar erros de execução no programa.\n",
        "\n",
        "**As principais formas de representação do algoritmo:**\n",
        "\n",
        "\n",
        "\n",
        "*   Descrição narrativa: é o que descrevemos (linguagem natural);\n",
        "*   Fluxograma: representação gráfica cujas etapas/módutos são ilustrados de forma encadeada por meio de símbolos geométricos interconectados.;\n",
        "*   Pseudocódigo: linguagem, como um português estruturado para simular o programa.\n",
        "\n",
        "\n",
        "**Tipos de dados:**\n",
        "*   Inteiro (int):  números inteiros (ex. 8/80)\n",
        "*   Decimal (float): números decimais (ex. 3.14)\n",
        "*   Caracteres (string): palavras (ex. \"número 12\"\n",
        "*   Booleano (bool): valores booleanos (ex. true/false)\n",
        "\n",
        "\n",
        "\n",
        "\n",
        "\n",
        "\n",
        "\n",
        "\n"
      ],
      "metadata": {
        "id": "M-JXUvlFbiOm"
      }
    },
    {
      "cell_type": "code",
      "source": [
        "#CÓDIGO 01\n",
        "#ENTRADAS DO PROGRAMA\n",
        "a=input (\"Digite a:\")\n",
        "b=input (\"Digite b:\")\n",
        "#PROCESSAMENTO\n",
        "soma=int(a) + int(b)\n",
        "#SAÍDA NA TELA\n",
        "print (soma)"
      ],
      "metadata": {
        "colab": {
          "base_uri": "https://localhost:8080/"
        },
        "id": "1jAHJ4OcdBEg",
        "outputId": "6b3a17af-8357-4e28-a4d9-0bfeb639cf54"
      },
      "execution_count": null,
      "outputs": [
        {
          "output_type": "stream",
          "name": "stdout",
          "text": [
            "Digite a:10\n",
            "Digite b:20\n",
            "30\n"
          ]
        }
      ]
    },
    {
      "cell_type": "code",
      "source": [
        "#OPERADORES ARITMÉTICOS\n",
        "print(10+2)\n",
        "print(10-2)\n",
        "print(10*2)\n",
        "print(10/2)\n",
        "#DIVISÃO TRUNCADA\n",
        "print(10//2)\n",
        "#MÓDULO/RESTO\n",
        "print(10%2)\n",
        "#EXPONENCIAÇÃO\n",
        "print(10**2)"
      ],
      "metadata": {
        "colab": {
          "base_uri": "https://localhost:8080/"
        },
        "id": "pFQweyPpfCWl",
        "outputId": "de1f9245-3d8f-4f89-e06a-9aa90b69fa20"
      },
      "execution_count": null,
      "outputs": [
        {
          "output_type": "stream",
          "name": "stdout",
          "text": [
            "12\n",
            "8\n",
            "20\n",
            "5.0\n",
            "5\n",
            "0\n",
            "100\n"
          ]
        }
      ]
    },
    {
      "cell_type": "code",
      "source": [
        "#DECLARAÇÃO DE VARIÁVEIS\n",
        "x = 2\n",
        "p = 3.1415\n",
        "verdadeiro = True\n",
        "texto = 'isto é uma string'\n",
        "texto1 = \"isto também é uma string\"\n",
        "c = 3 + 2j\n",
        "\n",
        "print(x)\n",
        "print(p)\n",
        "print(verdadeiro)\n",
        "print(texto)\n",
        "print(texto1)"
      ],
      "metadata": {
        "colab": {
          "base_uri": "https://localhost:8080/"
        },
        "id": "Mp-XwoAYf-w6",
        "outputId": "53c8aeec-555b-402d-ed06-7aef038f82d8"
      },
      "execution_count": null,
      "outputs": [
        {
          "output_type": "stream",
          "name": "stdout",
          "text": [
            "2\n",
            "3.1415\n",
            "True\n",
            "isto é uma string\n",
            "isto também é uma string\n"
          ]
        }
      ]
    },
    {
      "cell_type": "code",
      "source": [
        "#PRINCÍPIOS BÁSICOS DO PYTHON\n",
        "n1 = int(input(\"Digite o valor 1:\"))\n",
        "n2 = int(input(\"Digite o valor 2:\"))\n",
        "n3 = 20\n",
        "n4 = n1 + n2 + n3\n",
        "print (\"Soma: \" + str(n4))"
      ],
      "metadata": {
        "colab": {
          "base_uri": "https://localhost:8080/"
        },
        "id": "z4B3DzHLhcTu",
        "outputId": "def427b5-1231-4151-8dbd-ae5580745eca"
      },
      "execution_count": null,
      "outputs": [
        {
          "output_type": "stream",
          "name": "stdout",
          "text": [
            "Digite o valor 1:5\n",
            "Digite o valor 2:10\n",
            "Soma: 35\n"
          ]
        }
      ]
    },
    {
      "cell_type": "code",
      "source": [],
      "metadata": {
        "id": "gkhzH9BwjUQ8"
      },
      "execution_count": null,
      "outputs": []
    },
    {
      "cell_type": "markdown",
      "source": [
        "EXERCÍCIO: crie um código de programa para solicitar dois valores de nota e em seguida calcular e exibir a média dessas notas.\n",
        "\n",
        "**Narrativa:**\n",
        "\n",
        "Ler nota da prova P1\n",
        "\n",
        "Ler nota da prova P2\n",
        "\n",
        "Calcular a média (onde média = (P1+P2)/2)\n",
        "\n",
        "Exibir a média calculada\n",
        "\n",
        "**Pseudocódigo:**\n",
        "\n",
        "Início\n",
        "\n",
        "real: p1, p2, média\n",
        "\n",
        "ler: p1\n",
        "\n",
        "ler: p2\n",
        "\n",
        "média= (p1+p2/2)\n",
        "\n",
        "escrever (média)\n",
        "\n",
        "Fim"
      ],
      "metadata": {
        "id": "UzD3Wlw2jX2-"
      }
    },
    {
      "cell_type": "code",
      "source": [
        "#Solicita ao usuário que insira dois valores\n",
        "p1 = float(input(\"Digite a nota da p1: \"))\n",
        "p2 = float(input(\"Digite a nota da p2: \"))\n",
        "#Calcula a média de dois valores\n",
        "média = (p1+p2/2.0)\n",
        "#Exibe o resultado\n",
        "print(f\"A média aritmética entre {p1} e {p2} é: {média}.\")"
      ],
      "metadata": {
        "colab": {
          "base_uri": "https://localhost:8080/"
        },
        "id": "z7yBcpkkjxEk",
        "outputId": "edc4849c-5872-4101-9adc-e488e50b5779"
      },
      "execution_count": 19,
      "outputs": [
        {
          "output_type": "stream",
          "name": "stdout",
          "text": [
            "Digite a nota da p1: 1\n",
            "Digite a nota da p2: 6\n",
            "A média aritmética entre 1.0 e 6.0 é 4.0.\n"
          ]
        }
      ]
    }
  ]
}